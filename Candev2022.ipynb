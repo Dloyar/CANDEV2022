{
 "cells": [
  {
   "cell_type": "markdown",
   "id": "educational-ribbon",
   "metadata": {},
   "source": [
    "# CANDEV 2022"
   ]
  },
  {
   "cell_type": "code",
   "execution_count": 1,
   "id": "racial-plastic",
   "metadata": {},
   "outputs": [],
   "source": [
    "import pandas as pd\n",
    "import numpy as np\n",
    "from datetime import datetime, timedelta\n",
    "from IPython.display import display\n",
    "import matplotlib.pyplot as plt\n",
    "import seaborn as sns\n"
   ]
  },
  {
   "cell_type": "code",
   "execution_count": 2,
   "id": "finished-speaker",
   "metadata": {},
   "outputs": [
    {
     "name": "stderr",
     "output_type": "stream",
     "text": [
      "c:\\testenv\\testenv\\lib\\site-packages\\IPython\\core\\interactiveshell.py:3165: DtypeWarning: Columns (12) have mixed types.Specify dtype option on import or set low_memory=False.\n",
      "  has_raised = await self.run_ast_nodes(code_ast.body, cell_name,\n"
     ]
    }
   ],
   "source": [
    "df = pd.read_csv(\"INCIDENT_OWNER_HISTORY.csv\")\n",
    "dfI = pd.read_csv(\"INCIDENTS.csv\")\n"
   ]
  },
  {
   "cell_type": "markdown",
   "id": "tribal-python",
   "metadata": {},
   "source": [
    "***Le temps moyen que les incidents passent dans un statut particulier.***"
   ]
  },
  {
   "cell_type": "code",
   "execution_count": 3,
   "id": "specific-subsection",
   "metadata": {},
   "outputs": [
    {
     "data": {
      "text/html": [
       "<div>\n",
       "<style scoped>\n",
       "    .dataframe tbody tr th:only-of-type {\n",
       "        vertical-align: middle;\n",
       "    }\n",
       "\n",
       "    .dataframe tbody tr th {\n",
       "        vertical-align: top;\n",
       "    }\n",
       "\n",
       "    .dataframe thead th {\n",
       "        text-align: right;\n",
       "    }\n",
       "</style>\n",
       "<table border=\"1\" class=\"dataframe\">\n",
       "  <thead>\n",
       "    <tr style=\"text-align: right;\">\n",
       "      <th></th>\n",
       "      <th>TIME_IN_STATUS_BY_OWNER_HRS</th>\n",
       "    </tr>\n",
       "    <tr>\n",
       "      <th>STATUS</th>\n",
       "      <th></th>\n",
       "    </tr>\n",
       "  </thead>\n",
       "  <tbody>\n",
       "    <tr>\n",
       "      <th>AWAITCHG</th>\n",
       "      <td>127.377065</td>\n",
       "    </tr>\n",
       "    <tr>\n",
       "      <th>AWAITCUS</th>\n",
       "      <td>85.690441</td>\n",
       "    </tr>\n",
       "    <tr>\n",
       "      <th>AWAITVEN</th>\n",
       "      <td>144.054339</td>\n",
       "    </tr>\n",
       "    <tr>\n",
       "      <th>CLOSED</th>\n",
       "      <td>NaN</td>\n",
       "    </tr>\n",
       "    <tr>\n",
       "      <th>HISTEDIT</th>\n",
       "      <td>16.639815</td>\n",
       "    </tr>\n",
       "    <tr>\n",
       "      <th>INPROG</th>\n",
       "      <td>40.150039</td>\n",
       "    </tr>\n",
       "    <tr>\n",
       "      <th>NEW</th>\n",
       "      <td>8.283333</td>\n",
       "    </tr>\n",
       "    <tr>\n",
       "      <th>PENDING</th>\n",
       "      <td>68.230397</td>\n",
       "    </tr>\n",
       "    <tr>\n",
       "      <th>PENDINGCHG</th>\n",
       "      <td>158.836006</td>\n",
       "    </tr>\n",
       "    <tr>\n",
       "      <th>PENDINGCUS</th>\n",
       "      <td>92.318825</td>\n",
       "    </tr>\n",
       "    <tr>\n",
       "      <th>PENDINGREV</th>\n",
       "      <td>209.543013</td>\n",
       "    </tr>\n",
       "    <tr>\n",
       "      <th>PENDINGVEN</th>\n",
       "      <td>102.631822</td>\n",
       "    </tr>\n",
       "    <tr>\n",
       "      <th>QUEUED</th>\n",
       "      <td>47.523962</td>\n",
       "    </tr>\n",
       "    <tr>\n",
       "      <th>RESOLVED</th>\n",
       "      <td>0.147288</td>\n",
       "    </tr>\n",
       "    <tr>\n",
       "      <th>SLAHOLD</th>\n",
       "      <td>128.120452</td>\n",
       "    </tr>\n",
       "  </tbody>\n",
       "</table>\n",
       "</div>"
      ],
      "text/plain": [
       "            TIME_IN_STATUS_BY_OWNER_HRS\n",
       "STATUS                                 \n",
       "AWAITCHG                     127.377065\n",
       "AWAITCUS                      85.690441\n",
       "AWAITVEN                     144.054339\n",
       "CLOSED                              NaN\n",
       "HISTEDIT                      16.639815\n",
       "INPROG                        40.150039\n",
       "NEW                            8.283333\n",
       "PENDING                       68.230397\n",
       "PENDINGCHG                   158.836006\n",
       "PENDINGCUS                    92.318825\n",
       "PENDINGREV                   209.543013\n",
       "PENDINGVEN                   102.631822\n",
       "QUEUED                        47.523962\n",
       "RESOLVED                       0.147288\n",
       "SLAHOLD                      128.120452"
      ]
     },
     "execution_count": 3,
     "metadata": {},
     "output_type": "execute_result"
    }
   ],
   "source": [
    "df.groupby('STATUS').mean()\n"
   ]
  },
  {
   "cell_type": "markdown",
   "id": "actual-ministry",
   "metadata": {},
   "source": [
    "![](StatusAverageHisto.png)"
   ]
  },
  {
   "cell_type": "markdown",
   "id": "structural-publication",
   "metadata": {},
   "source": [
    "![](StatusAverageCircle1.png)"
   ]
  },
  {
   "cell_type": "markdown",
   "id": "assumed-phoenix",
   "metadata": {},
   "source": [
    "***Le nombre de fois qu'un incident est réassigné pendant la durée de vie du ticket.***\n"
   ]
  },
  {
   "cell_type": "code",
   "execution_count": 4,
   "id": "blind-signature",
   "metadata": {},
   "outputs": [],
   "source": [
    "#remove NAN value in TIME IN STATUT\n",
    "df = df[df['TIME_IN_STATUS_BY_OWNER_HRS'].notna()]\n",
    "#remove NAN value in TIME IN Assigned group\n",
    "df = df[df['assigned_group'].notna()]\n",
    "df_new1 = pd.DataFrame(columns=['ticket_nmbr','assigned_group','TIME_IN_STATUS_BY_OWNER_HRS'])\n",
    "df_new1['ticket_nmbr'] = df['ticket_nmbr']\n",
    "df_new1['TimeInHour'] = df['TIME_IN_STATUS_BY_OWNER_HRS']\n",
    "# Groupby and sum\n",
    "df_new1 = df_new1.groupby([\"ticket_nmbr\"]).agg({\"TimeInHour\": \"sum\"}).sort_values([\"ticket_nmbr\"]).reset_index()\n",
    "df_new2 = df.groupby([\"ticket_nmbr\",\"assigned_group\"]).agg({\"TIME_IN_STATUS_BY_OWNER_HRS\": \"sum\"}).sort_values([\"ticket_nmbr\",\"assigned_group\" ]).reset_index()\n",
    "occurence = df_new2.pivot_table(columns=[\"ticket_nmbr\"], aggfunc='size')\n",
    "df_new1['R_occur'] = occurence.tolist()"
   ]
  },
  {
   "cell_type": "code",
   "execution_count": 5,
   "id": "boxed-definition",
   "metadata": {},
   "outputs": [
    {
     "data": {
      "text/html": [
       "<div>\n",
       "<style scoped>\n",
       "    .dataframe tbody tr th:only-of-type {\n",
       "        vertical-align: middle;\n",
       "    }\n",
       "\n",
       "    .dataframe tbody tr th {\n",
       "        vertical-align: top;\n",
       "    }\n",
       "\n",
       "    .dataframe thead th {\n",
       "        text-align: right;\n",
       "    }\n",
       "</style>\n",
       "<table border=\"1\" class=\"dataframe\">\n",
       "  <thead>\n",
       "    <tr style=\"text-align: right;\">\n",
       "      <th></th>\n",
       "      <th>ticket_nmbr</th>\n",
       "      <th>TimeInHour</th>\n",
       "      <th>R_occur</th>\n",
       "    </tr>\n",
       "  </thead>\n",
       "  <tbody>\n",
       "    <tr>\n",
       "      <th>0</th>\n",
       "      <td>IN10028612</td>\n",
       "      <td>8.383333</td>\n",
       "      <td>1</td>\n",
       "    </tr>\n",
       "    <tr>\n",
       "      <th>1</th>\n",
       "      <td>IN10028613</td>\n",
       "      <td>64.100000</td>\n",
       "      <td>1</td>\n",
       "    </tr>\n",
       "    <tr>\n",
       "      <th>2</th>\n",
       "      <td>IN10028614</td>\n",
       "      <td>8.750000</td>\n",
       "      <td>1</td>\n",
       "    </tr>\n",
       "    <tr>\n",
       "      <th>3</th>\n",
       "      <td>IN10028615</td>\n",
       "      <td>3.616667</td>\n",
       "      <td>1</td>\n",
       "    </tr>\n",
       "    <tr>\n",
       "      <th>4</th>\n",
       "      <td>IN10028617</td>\n",
       "      <td>116.150000</td>\n",
       "      <td>1</td>\n",
       "    </tr>\n",
       "    <tr>\n",
       "      <th>...</th>\n",
       "      <td>...</td>\n",
       "      <td>...</td>\n",
       "      <td>...</td>\n",
       "    </tr>\n",
       "    <tr>\n",
       "      <th>224413</th>\n",
       "      <td>IN10293549</td>\n",
       "      <td>0.000000</td>\n",
       "      <td>2</td>\n",
       "    </tr>\n",
       "    <tr>\n",
       "      <th>224414</th>\n",
       "      <td>IN10293550</td>\n",
       "      <td>0.000000</td>\n",
       "      <td>1</td>\n",
       "    </tr>\n",
       "    <tr>\n",
       "      <th>224415</th>\n",
       "      <td>IN10293551</td>\n",
       "      <td>0.000000</td>\n",
       "      <td>1</td>\n",
       "    </tr>\n",
       "    <tr>\n",
       "      <th>224416</th>\n",
       "      <td>IN10293552</td>\n",
       "      <td>0.000000</td>\n",
       "      <td>2</td>\n",
       "    </tr>\n",
       "    <tr>\n",
       "      <th>224417</th>\n",
       "      <td>IN10293554</td>\n",
       "      <td>0.000000</td>\n",
       "      <td>1</td>\n",
       "    </tr>\n",
       "  </tbody>\n",
       "</table>\n",
       "<p>224418 rows × 3 columns</p>\n",
       "</div>"
      ],
      "text/plain": [
       "       ticket_nmbr  TimeInHour  R_occur\n",
       "0       IN10028612    8.383333        1\n",
       "1       IN10028613   64.100000        1\n",
       "2       IN10028614    8.750000        1\n",
       "3       IN10028615    3.616667        1\n",
       "4       IN10028617  116.150000        1\n",
       "...            ...         ...      ...\n",
       "224413  IN10293549    0.000000        2\n",
       "224414  IN10293550    0.000000        1\n",
       "224415  IN10293551    0.000000        1\n",
       "224416  IN10293552    0.000000        2\n",
       "224417  IN10293554    0.000000        1\n",
       "\n",
       "[224418 rows x 3 columns]"
      ]
     },
     "execution_count": 5,
     "metadata": {},
     "output_type": "execute_result"
    }
   ],
   "source": [
    "#tableau qui montre le nombre de reassignement pour chaque tickets\n",
    "df_new1"
   ]
  },
  {
   "cell_type": "code",
   "execution_count": 6,
   "id": "worthy-condition",
   "metadata": {},
   "outputs": [
    {
     "data": {
      "text/plain": [
       "14"
      ]
     },
     "execution_count": 6,
     "metadata": {},
     "output_type": "execute_result"
    }
   ],
   "source": [
    "df_new1.R_occur.max()"
   ]
  },
  {
   "cell_type": "code",
   "execution_count": 7,
   "id": "conservative-plant",
   "metadata": {},
   "outputs": [
    {
     "data": {
      "text/plain": [
       "1.382901549786559"
      ]
     },
     "execution_count": 7,
     "metadata": {},
     "output_type": "execute_result"
    }
   ],
   "source": [
    "df_new1.R_occur.mean()"
   ]
  },
  {
   "cell_type": "markdown",
   "id": "sixth-timber",
   "metadata": {},
   "source": [
    "***Le temps moyen que les incidents passent avec un groupe de support particulier (Assigned_Group).***\n"
   ]
  },
  {
   "cell_type": "code",
   "execution_count": 6,
   "id": "contemporary-setup",
   "metadata": {},
   "outputs": [
    {
     "data": {
      "text/html": [
       "<div>\n",
       "<style scoped>\n",
       "    .dataframe tbody tr th:only-of-type {\n",
       "        vertical-align: middle;\n",
       "    }\n",
       "\n",
       "    .dataframe tbody tr th {\n",
       "        vertical-align: top;\n",
       "    }\n",
       "\n",
       "    .dataframe thead th {\n",
       "        text-align: right;\n",
       "    }\n",
       "</style>\n",
       "<table border=\"1\" class=\"dataframe\">\n",
       "  <thead>\n",
       "    <tr style=\"text-align: right;\">\n",
       "      <th></th>\n",
       "      <th>TIME_IN_STATUS_BY_OWNER_HRS</th>\n",
       "    </tr>\n",
       "    <tr>\n",
       "      <th>assigned_group</th>\n",
       "      <th></th>\n",
       "    </tr>\n",
       "  </thead>\n",
       "  <tbody>\n",
       "    <tr>\n",
       "      <th>1769</th>\n",
       "      <td>6.050000</td>\n",
       "    </tr>\n",
       "    <tr>\n",
       "      <th>AP000001</th>\n",
       "      <td>109.789474</td>\n",
       "    </tr>\n",
       "    <tr>\n",
       "      <th>AP000003</th>\n",
       "      <td>399.466667</td>\n",
       "    </tr>\n",
       "    <tr>\n",
       "      <th>AP000004</th>\n",
       "      <td>551.600000</td>\n",
       "    </tr>\n",
       "    <tr>\n",
       "      <th>AP000005</th>\n",
       "      <td>0.616667</td>\n",
       "    </tr>\n",
       "    <tr>\n",
       "      <th>...</th>\n",
       "      <td>...</td>\n",
       "    </tr>\n",
       "    <tr>\n",
       "      <th>SM000585</th>\n",
       "      <td>21.248418</td>\n",
       "    </tr>\n",
       "    <tr>\n",
       "      <th>SM000586</th>\n",
       "      <td>0.000000</td>\n",
       "    </tr>\n",
       "    <tr>\n",
       "      <th>SOLADMIN</th>\n",
       "      <td>1.416667</td>\n",
       "    </tr>\n",
       "    <tr>\n",
       "      <th>SSCINFRA</th>\n",
       "      <td>23.033333</td>\n",
       "    </tr>\n",
       "    <tr>\n",
       "      <th>TIVMON</th>\n",
       "      <td>72.287500</td>\n",
       "    </tr>\n",
       "  </tbody>\n",
       "</table>\n",
       "<p>579 rows × 1 columns</p>\n",
       "</div>"
      ],
      "text/plain": [
       "                TIME_IN_STATUS_BY_OWNER_HRS\n",
       "assigned_group                             \n",
       "1769                               6.050000\n",
       "AP000001                         109.789474\n",
       "AP000003                         399.466667\n",
       "AP000004                         551.600000\n",
       "AP000005                           0.616667\n",
       "...                                     ...\n",
       "SM000585                          21.248418\n",
       "SM000586                           0.000000\n",
       "SOLADMIN                           1.416667\n",
       "SSCINFRA                          23.033333\n",
       "TIVMON                            72.287500\n",
       "\n",
       "[579 rows x 1 columns]"
      ]
     },
     "execution_count": 6,
     "metadata": {},
     "output_type": "execute_result"
    }
   ],
   "source": [
    "df_new2.to_csv(\"df_new2.csv\",index=False)\n",
    "\n",
    "df_new2.groupby('assigned_group').mean()\n"
   ]
  },
  {
   "cell_type": "code",
   "execution_count": 7,
   "id": "eligible-daily",
   "metadata": {},
   "outputs": [
    {
     "data": {
      "text/html": [
       "<div>\n",
       "<style scoped>\n",
       "    .dataframe tbody tr th:only-of-type {\n",
       "        vertical-align: middle;\n",
       "    }\n",
       "\n",
       "    .dataframe tbody tr th {\n",
       "        vertical-align: top;\n",
       "    }\n",
       "\n",
       "    .dataframe thead th {\n",
       "        text-align: right;\n",
       "    }\n",
       "</style>\n",
       "<table border=\"1\" class=\"dataframe\">\n",
       "  <thead>\n",
       "    <tr style=\"text-align: right;\">\n",
       "      <th></th>\n",
       "      <th>ticket_nmbr</th>\n",
       "      <th>assigned_group</th>\n",
       "      <th>TIME_IN_STATUS_BY_OWNER_HRS</th>\n",
       "    </tr>\n",
       "  </thead>\n",
       "  <tbody>\n",
       "    <tr>\n",
       "      <th>0</th>\n",
       "      <td>IN10028612</td>\n",
       "      <td>DC000152</td>\n",
       "      <td>8.383333</td>\n",
       "    </tr>\n",
       "    <tr>\n",
       "      <th>1</th>\n",
       "      <td>IN10028613</td>\n",
       "      <td>NDS00032</td>\n",
       "      <td>64.100000</td>\n",
       "    </tr>\n",
       "    <tr>\n",
       "      <th>2</th>\n",
       "      <td>IN10028614</td>\n",
       "      <td>DC000155</td>\n",
       "      <td>8.750000</td>\n",
       "    </tr>\n",
       "    <tr>\n",
       "      <th>3</th>\n",
       "      <td>IN10028615</td>\n",
       "      <td>DC000133</td>\n",
       "      <td>3.616667</td>\n",
       "    </tr>\n",
       "    <tr>\n",
       "      <th>4</th>\n",
       "      <td>IN10028617</td>\n",
       "      <td>DC000115</td>\n",
       "      <td>116.150000</td>\n",
       "    </tr>\n",
       "    <tr>\n",
       "      <th>...</th>\n",
       "      <td>...</td>\n",
       "      <td>...</td>\n",
       "      <td>...</td>\n",
       "    </tr>\n",
       "    <tr>\n",
       "      <th>310343</th>\n",
       "      <td>IN10293550</td>\n",
       "      <td>DC000263</td>\n",
       "      <td>0.000000</td>\n",
       "    </tr>\n",
       "    <tr>\n",
       "      <th>310344</th>\n",
       "      <td>IN10293551</td>\n",
       "      <td>DC000152</td>\n",
       "      <td>0.000000</td>\n",
       "    </tr>\n",
       "    <tr>\n",
       "      <th>310345</th>\n",
       "      <td>IN10293552</td>\n",
       "      <td>DC000155</td>\n",
       "      <td>0.000000</td>\n",
       "    </tr>\n",
       "    <tr>\n",
       "      <th>310346</th>\n",
       "      <td>IN10293552</td>\n",
       "      <td>SM000562</td>\n",
       "      <td>0.000000</td>\n",
       "    </tr>\n",
       "    <tr>\n",
       "      <th>310347</th>\n",
       "      <td>IN10293554</td>\n",
       "      <td>DC000188</td>\n",
       "      <td>0.000000</td>\n",
       "    </tr>\n",
       "  </tbody>\n",
       "</table>\n",
       "<p>310348 rows × 3 columns</p>\n",
       "</div>"
      ],
      "text/plain": [
       "       ticket_nmbr assigned_group  TIME_IN_STATUS_BY_OWNER_HRS\n",
       "0       IN10028612       DC000152                     8.383333\n",
       "1       IN10028613       NDS00032                    64.100000\n",
       "2       IN10028614       DC000155                     8.750000\n",
       "3       IN10028615       DC000133                     3.616667\n",
       "4       IN10028617       DC000115                   116.150000\n",
       "...            ...            ...                          ...\n",
       "310343  IN10293550       DC000263                     0.000000\n",
       "310344  IN10293551       DC000152                     0.000000\n",
       "310345  IN10293552       DC000155                     0.000000\n",
       "310346  IN10293552       SM000562                     0.000000\n",
       "310347  IN10293554       DC000188                     0.000000\n",
       "\n",
       "[310348 rows x 3 columns]"
      ]
     },
     "execution_count": 7,
     "metadata": {},
     "output_type": "execute_result"
    }
   ],
   "source": [
    "df_new2"
   ]
  },
  {
   "cell_type": "markdown",
   "id": "fixed-width",
   "metadata": {},
   "source": [
    "***Temps moyen pour restaurer le service (MTRS), y a-t-il des services particuliers qui prennent plus de temps en moyenne pour être restaurés ?***\n"
   ]
  },
  {
   "cell_type": "code",
   "execution_count": 8,
   "id": "utility-desert",
   "metadata": {},
   "outputs": [
    {
     "data": {
      "text/html": [
       "<div>\n",
       "<style scoped>\n",
       "    .dataframe tbody tr th:only-of-type {\n",
       "        vertical-align: middle;\n",
       "    }\n",
       "\n",
       "    .dataframe tbody tr th {\n",
       "        vertical-align: top;\n",
       "    }\n",
       "\n",
       "    .dataframe thead th {\n",
       "        text-align: right;\n",
       "    }\n",
       "</style>\n",
       "<table border=\"1\" class=\"dataframe\">\n",
       "  <thead>\n",
       "    <tr style=\"text-align: right;\">\n",
       "      <th></th>\n",
       "      <th>TIME_IN_STATUS_BY_OWNER_HRS</th>\n",
       "    </tr>\n",
       "    <tr>\n",
       "      <th>service</th>\n",
       "      <th></th>\n",
       "    </tr>\n",
       "  </thead>\n",
       "  <tbody>\n",
       "    <tr>\n",
       "      <th>Bulk Print</th>\n",
       "      <td>377.007738</td>\n",
       "    </tr>\n",
       "    <tr>\n",
       "      <th>Classified Infrastructure - GCSI - Hosting Environment</th>\n",
       "      <td>43.980464</td>\n",
       "    </tr>\n",
       "    <tr>\n",
       "      <th>Classified Infrastructure - Government of Canada Secret Infrastructure (GCSI)</th>\n",
       "      <td>107.905556</td>\n",
       "    </tr>\n",
       "    <tr>\n",
       "      <th>Cloud Brokering</th>\n",
       "      <td>63.118243</td>\n",
       "    </tr>\n",
       "    <tr>\n",
       "      <th>Conferencing - Videoconferencing</th>\n",
       "      <td>43.938437</td>\n",
       "    </tr>\n",
       "    <tr>\n",
       "      <th>...</th>\n",
       "      <td>...</td>\n",
       "    </tr>\n",
       "    <tr>\n",
       "      <th>To be determined</th>\n",
       "      <td>309.741667</td>\n",
       "    </tr>\n",
       "    <tr>\n",
       "      <th>Toll-free Voice</th>\n",
       "      <td>55.636462</td>\n",
       "    </tr>\n",
       "    <tr>\n",
       "      <th>WTD - Hardware</th>\n",
       "      <td>142.022840</td>\n",
       "    </tr>\n",
       "    <tr>\n",
       "      <th>WTD Provisioning</th>\n",
       "      <td>625.816667</td>\n",
       "    </tr>\n",
       "    <tr>\n",
       "      <th>Workplace Technology Services</th>\n",
       "      <td>14.495464</td>\n",
       "    </tr>\n",
       "  </tbody>\n",
       "</table>\n",
       "<p>65 rows × 1 columns</p>\n",
       "</div>"
      ],
      "text/plain": [
       "                                                    TIME_IN_STATUS_BY_OWNER_HRS\n",
       "service                                                                        \n",
       "Bulk Print                                                           377.007738\n",
       "Classified Infrastructure - GCSI - Hosting Envi...                    43.980464\n",
       "Classified Infrastructure - Government of Canad...                   107.905556\n",
       "Cloud Brokering                                                       63.118243\n",
       "Conferencing - Videoconferencing                                      43.938437\n",
       "...                                                                         ...\n",
       "To be determined                                                     309.741667\n",
       "Toll-free Voice                                                       55.636462\n",
       "WTD - Hardware                                                       142.022840\n",
       "WTD Provisioning                                                     625.816667\n",
       "Workplace Technology Services                                         14.495464\n",
       "\n",
       "[65 rows x 1 columns]"
      ]
     },
     "execution_count": 8,
     "metadata": {},
     "output_type": "execute_result"
    }
   ],
   "source": [
    "df_servicelong = df.groupby('service').mean()\n",
    "df_servicelong"
   ]
  },
  {
   "cell_type": "code",
   "execution_count": 9,
   "id": "virgin-spider",
   "metadata": {},
   "outputs": [
    {
     "data": {
      "text/plain": [
       "TIME_IN_STATUS_BY_OWNER_HRS    1973.583333\n",
       "dtype: float64"
      ]
     },
     "execution_count": 9,
     "metadata": {},
     "output_type": "execute_result"
    }
   ],
   "source": [
    "df_servicelong.max()"
   ]
  },
  {
   "cell_type": "markdown",
   "id": "magnetic-delhi",
   "metadata": {},
   "source": [
    "***Existe-t-il une corrélation entre le nombre de réaffectations d'un incident et le temps nécessaire à sa restauration ?***"
   ]
  },
  {
   "cell_type": "markdown",
   "id": "foster-philadelphia",
   "metadata": {},
   "source": [
    "Ce graph a ete faite avec le logiciel R"
   ]
  },
  {
   "cell_type": "markdown",
   "id": "seventh-teacher",
   "metadata": {},
   "source": [
    "![](corellation1.png)"
   ]
  },
  {
   "cell_type": "markdown",
   "id": "institutional-purse",
   "metadata": {},
   "source": [
    "***Y a-t-il des organisations particulières pour lesquelles il faut plus de temps en moyenne pour restaurer les services ?***\n"
   ]
  },
  {
   "cell_type": "code",
   "execution_count": 10,
   "id": "canadian-leonard",
   "metadata": {},
   "outputs": [
    {
     "data": {
      "text/plain": [
       "ticket_nmbr                    IN10293554\n",
       "assigned_group                     TIVMON\n",
       "TIME_IN_STATUS_BY_OWNER_HRS        7307.2\n",
       "dtype: object"
      ]
     },
     "execution_count": 10,
     "metadata": {},
     "output_type": "execute_result"
    }
   ],
   "source": [
    "df_new2.max()\n"
   ]
  },
  {
   "cell_type": "markdown",
   "id": "eastern-sauce",
   "metadata": {},
   "source": [
    "# COMPREHENSION DE DONNEES"
   ]
  },
  {
   "cell_type": "code",
   "execution_count": 11,
   "id": "progressive-psychiatry",
   "metadata": {},
   "outputs": [
    {
     "data": {
      "text/plain": [
       "array(['QUEUED', 'RESOLVED', 'INPROG', 'PENDINGREV', 'PENDING',\n",
       "       'PENDINGCHG', 'PENDINGVEN', 'PENDINGCUS', 'HISTEDIT', 'AWAITCHG',\n",
       "       'AWAITCUS', 'SLAHOLD', 'AWAITVEN', 'NEW'], dtype=object)"
      ]
     },
     "execution_count": 11,
     "metadata": {},
     "output_type": "execute_result"
    }
   ],
   "source": [
    "df.STATUS.unique()\n"
   ]
  },
  {
   "cell_type": "code",
   "execution_count": 16,
   "id": "monetary-douglas",
   "metadata": {},
   "outputs": [
    {
     "name": "stderr",
     "output_type": "stream",
     "text": [
      "C:\\Python39\\lib\\site-packages\\seaborn\\_decorators.py:36: FutureWarning: Pass the following variable as a keyword arg: x. From version 0.12, the only valid positional argument will be `data`, and passing other arguments without an explicit keyword will result in an error or misinterpretation.\n",
      "  warnings.warn(\n"
     ]
    },
    {
     "data": {
      "image/png": "[encoded data removed]",
      "text/plain": [
       "<Figure size 1080x432 with 1 Axes>"
      ]
     },
     "metadata": {
      "needs_background": "light"
     },
     "output_type": "display_data"
    }
   ],
   "source": [
    "# Status incidents\n",
    "fig_dims = (15, 6)\n",
    "fig, ax = plt.subplots(figsize=fig_dims)\n",
    "sns.countplot(df['STATUS'],ax=ax)\n",
    "plt.title(\"Incident State Count Details\", size = 14)\n",
    "plt.xlabel(\"Rating\", size=12)\n",
    "plt.ylabel(\"Count\", size=12)\n",
    "plt.xticks(rotation=10)\n",
    "plt.grid()\n",
    "plt.show()"
   ]
  },
  {
   "cell_type": "markdown",
   "id": "solid-attitude",
   "metadata": {},
   "source": [
    "On peut voir ici qu'il y a beaucoup de ticket qui sont dans le queue. C'est a dire que c'est tickets sont en attentes de traitements\n"
   ]
  },
  {
   "cell_type": "code",
   "execution_count": 11,
   "id": "bearing-count",
   "metadata": {},
   "outputs": [
    {
     "name": "stderr",
     "output_type": "stream",
     "text": [
      "C:\\Python39\\lib\\site-packages\\seaborn\\_decorators.py:36: FutureWarning: Pass the following variable as a keyword arg: x. From version 0.12, the only valid positional argument will be `data`, and passing other arguments without an explicit keyword will result in an error or misinterpretation.\n",
      "  warnings.warn(\n"
     ]
    },
    {
     "data": {
      "image/png": "[encoded data removed]",
      "text/plain": [
       "<Figure size 1080x432 with 1 Axes>"
      ]
     },
     "metadata": {
      "needs_background": "light"
     },
     "output_type": "display_data"
    }
   ],
   "source": [
    "# assigned_group incidents\n",
    "fig_dims = (15, 6)\n",
    "fig, ax = plt.subplots(figsize=fig_dims)\n",
    "sns.countplot(df['assigned_group'],ax=ax)\n",
    "plt.title(\"Incident reassigned Count Details\", size = 14)\n",
    "plt.xlabel(\"Rating\", size=12)\n",
    "plt.ylabel(\"Count\", size=12)\n",
    "plt.xticks(rotation=10)\n",
    "plt.grid()\n",
    "plt.show()"
   ]
  },
  {
   "cell_type": "code",
   "execution_count": 12,
   "id": "expired-wedding",
   "metadata": {},
   "outputs": [
    {
     "data": {
      "text/plain": [
       "ESI00011    39072\n",
       "DC000203    38884\n",
       "DC000152    29778\n",
       "NW000412    29538\n",
       "NW000417    28848\n",
       "            ...  \n",
       "EU000201        1\n",
       "COR00555        1\n",
       "ENT00004        1\n",
       "DC000103        1\n",
       "DC000259        1\n",
       "Name: assigned_group, Length: 579, dtype: int64"
      ]
     },
     "execution_count": 12,
     "metadata": {},
     "output_type": "execute_result"
    }
   ],
   "source": [
    "df['assigned_group'].value_counts()\n"
   ]
  },
  {
   "cell_type": "code",
   "execution_count": 19,
   "id": "alive-casino",
   "metadata": {},
   "outputs": [
    {
     "data": {
      "text/plain": [
       "array(['Middleware', 'Midrange', 'Mainframe',\n",
       "       'High-performance Computing', 'Other Activities', 'Mobile Devices',\n",
       "       'GC WAN', 'Intra-building Network Services', 'Email', 'Database',\n",
       "       'Directory Services', 'Secure Remote Access',\n",
       "       'Data Centre Facilities Management', nan, 'Storage',\n",
       "       'Distributed Print', 'Fixed Line', 'Toll-free Voice',\n",
       "       'Internal Credential Management (ICM)', 'Contact Centre',\n",
       "       'Conferencing Services',\n",
       "       'Government of Canada Managed Security Service', 'Bulk Print',\n",
       "       'WTD Provisioning', 'Cloud Brokering', 'Satellite',\n",
       "       'Classified Infrastructure', 'Solutions Integration Service (SIS)',\n",
       "       'Firewall', 'Managed Secure File Transfer',\n",
       "       'IT Continuity Support Service', 'Workplace Technology Services'],\n",
       "      dtype=object)"
      ]
     },
     "execution_count": 19,
     "metadata": {},
     "output_type": "execute_result"
    }
   ],
   "source": [
    "df.PARENT_SERVICE.unique()\n"
   ]
  },
  {
   "cell_type": "code",
   "execution_count": 22,
   "id": "announced-petersburg",
   "metadata": {},
   "outputs": [
    {
     "name": "stderr",
     "output_type": "stream",
     "text": [
      "C:\\Python39\\lib\\site-packages\\seaborn\\_decorators.py:36: FutureWarning: Pass the following variable as a keyword arg: x. From version 0.12, the only valid positional argument will be `data`, and passing other arguments without an explicit keyword will result in an error or misinterpretation.\n",
      "  warnings.warn(\n"
     ]
    },
    {
     "data": {
      "image/png": "[encoded data removed]",
      "text/plain": [
       "<Figure size 1080x432 with 1 Axes>"
      ]
     },
     "metadata": {
      "needs_background": "light"
     },
     "output_type": "display_data"
    }
   ],
   "source": [
    "# Status incidents\n",
    "fig_dims = (15, 6)\n",
    "fig, ax = plt.subplots(figsize=fig_dims)\n",
    "sns.countplot(df['PARENT_SERVICE'],ax=ax)\n",
    "plt.title(\"Incident State Count Details\", size = 14)\n",
    "plt.xlabel(\"Rating\", size=16)\n",
    "plt.ylabel(\"Count\", size=16)\n",
    "plt.xticks(rotation=10)\n",
    "plt.grid()\n",
    "plt.show()"
   ]
  },
  {
   "cell_type": "code",
   "execution_count": 10,
   "id": "retired-tuning",
   "metadata": {},
   "outputs": [
    {
     "data": {
      "text/plain": [
       "Other Activities                                 131363\n",
       "Midrange                                         123995\n",
       "High-performance Computing                        74063\n",
       "GC WAN                                            73054\n",
       "Intra-building Network Services                   66202\n",
       "Mobile Devices                                    41610\n",
       "Middleware                                        41328\n",
       "Fixed Line                                        38193\n",
       "Contact Centre                                    19266\n",
       "Storage                                           18458\n",
       "Firewall                                          17735\n",
       "Directory Services                                16305\n",
       "Email                                             15155\n",
       "Data Centre Facilities Management                 14603\n",
       "Secure Remote Access                              12563\n",
       "Conferencing Services                             12505\n",
       "Mainframe                                         11673\n",
       "Database                                           2486\n",
       "Internal Credential Management (ICM)               2176\n",
       "Government of Canada Managed Security Service      1367\n",
       "Workplace Technology Services                      1352\n",
       "Toll-free Voice                                    1044\n",
       "Distributed Print                                   730\n",
       "Cloud Brokering                                     518\n",
       "Managed Secure File Transfer                        341\n",
       "Satellite                                           151\n",
       "Classified Infrastructure                           128\n",
       "WTD Provisioning                                     29\n",
       "Bulk Print                                           28\n",
       "Solutions Integration Service (SIS)                  10\n",
       "IT Continuity Support Service                         4\n",
       "Name: PARENT_SERVICE, dtype: int64"
      ]
     },
     "execution_count": 10,
     "metadata": {},
     "output_type": "execute_result"
    }
   ],
   "source": [
    "df['PARENT_SERVICE'].value_counts()\n"
   ]
  },
  {
   "cell_type": "code",
   "execution_count": 24,
   "id": "detailed-racing",
   "metadata": {},
   "outputs": [
    {
     "name": "stderr",
     "output_type": "stream",
     "text": [
      "C:\\Python39\\lib\\site-packages\\seaborn\\_decorators.py:36: FutureWarning: Pass the following variable as a keyword arg: x. From version 0.12, the only valid positional argument will be `data`, and passing other arguments without an explicit keyword will result in an error or misinterpretation.\n",
      "  warnings.warn(\n"
     ]
    },
    {
     "data": {
      "image/png": "[encoded data removed]",
      "text/plain": [
       "<Figure size 1080x432 with 1 Axes>"
      ]
     },
     "metadata": {
      "needs_background": "light"
     },
     "output_type": "display_data"
    }
   ],
   "source": [
    "fig_dims = (15, 6)\n",
    "fig, ax = plt.subplots(figsize=fig_dims)\n",
    "sns.countplot(dfI['PRIORITY'],ax=ax)\n",
    "plt.title(\"Incident State Count Details\", size = 14)\n",
    "plt.xlabel(\"Rating\", size=16)\n",
    "plt.ylabel(\"Count\", size=16)\n",
    "plt.xticks(rotation=10)\n",
    "plt.grid()\n",
    "plt.show()"
   ]
  },
  {
   "cell_type": "code",
   "execution_count": 26,
   "id": "engaged-chemistry",
   "metadata": {},
   "outputs": [
    {
     "data": {
      "text/plain": [
       "Low       159904\n",
       "Medium     62308\n",
       "High        4084\n",
       "Name: PRIORITY, dtype: int64"
      ]
     },
     "execution_count": 26,
     "metadata": {},
     "output_type": "execute_result"
    }
   ],
   "source": [
    "dfI['PRIORITY'].value_counts()\n"
   ]
  },
  {
   "cell_type": "code",
   "execution_count": 8,
   "id": "worse-adapter",
   "metadata": {},
   "outputs": [
    {
     "name": "stderr",
     "output_type": "stream",
     "text": [
      "C:\\Python39\\lib\\site-packages\\seaborn\\_decorators.py:36: FutureWarning: Pass the following variable as a keyword arg: x. From version 0.12, the only valid positional argument will be `data`, and passing other arguments without an explicit keyword will result in an error or misinterpretation.\n",
      "  warnings.warn(\n"
     ]
    },
    {
     "data": {
      "image/png": "[encoded data removed]",
      "text/plain": [
       "<Figure size 1080x432 with 1 Axes>"
      ]
     },
     "metadata": {
      "needs_background": "light"
     },
     "output_type": "display_data"
    }
   ],
   "source": [
    "fig_dims = (15, 6)\n",
    "fig, ax = plt.subplots(figsize=fig_dims)\n",
    "sns.countplot(dfI['org_id'],ax=ax)\n",
    "plt.title(\"Incident org_id Count Details\", size = 14)\n",
    "plt.xlabel(\"Rating\", size=16)\n",
    "plt.ylabel(\"Count\", size=16)\n",
    "plt.xticks(rotation=10)\n",
    "plt.grid()\n",
    "plt.show()"
   ]
  },
  {
   "cell_type": "code",
   "execution_count": 9,
   "id": "material-scroll",
   "metadata": {},
   "outputs": [
    {
     "data": {
      "text/plain": [
       "1342.0    75443\n",
       "1047.0    32789\n",
       "1062.0    27054\n",
       "1028.0    12910\n",
       "1045.0     7312\n",
       "          ...  \n",
       "1248.0        2\n",
       "837.0         1\n",
       "867.0         1\n",
       "1232.0        1\n",
       "948.0         1\n",
       "Name: org_id, Length: 71, dtype: int64"
      ]
     },
     "execution_count": 9,
     "metadata": {},
     "output_type": "execute_result"
    }
   ],
   "source": [
    "dfI['org_id'].value_counts()\n"
   ]
  },
  {
   "cell_type": "markdown",
   "id": "corporate-gibraltar",
   "metadata": {},
   "source": [
    "# Solution\n"
   ]
  },
  {
   "cell_type": "markdown",
   "id": "contained-rebound",
   "metadata": {},
   "source": [
    "Apres plusieurs reflexions sur le sujet, on a pu conclure que le fait d'allouer a un bot la classification des incidents permetterait d'ameliorer l'efficaicter d'assignement des tickets a un groupes particuliers(coder en java)et cela aura l'avantage de diminuer qu'un ticket soit reassigner plusieurs fois a plusieurs groupes et cela diminuera considerablement le nombre . On suggere aussi de limiter les nombres de tickets a chaque groupe de traitement de ticket et d'assigner un nombre maximum d'heure equivalent au nombre de tickets qu'ils ont recu. Tant que ses taches ne sont pas finis ou pas de places pour d'autres tickets, on ne pas assigner de ticket a ce groupe. On propose aussi de rotationner les ordres de priorites,c'est a dire que si un LOW depasse son delai de traitement, elle devient automatiquement un MEDIUM et si un MEDIUM deviendra un HIGH automatiquement. "
   ]
  },
  {
   "cell_type": "code",
   "execution_count": null,
   "id": "accredited-coast",
   "metadata": {},
   "outputs": [],
   "source": []
  }
 ],
 "metadata": {
  "kernelspec": {
   "display_name": "Python 3",
   "language": "python",
   "name": "python3"
  },
  "language_info": {
   "codemirror_mode": {
    "name": "ipython",
    "version": 3
   },
   "file_extension": ".py",
   "mimetype": "text/x-python",
   "name": "python",
   "nbconvert_exporter": "python",
   "pygments_lexer": "ipython3",
   "version": "3.9.1"
  }
 },
 "nbformat": 4,
 "nbformat_minor": 5
}
