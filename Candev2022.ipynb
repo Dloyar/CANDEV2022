{
 "cells": [
  {
   "cell_type": "markdown",
   "id": "governmental-subcommittee",
   "metadata": {},
   "source": [
    "# CANDEV 2022"
   ]
  },
  {
   "cell_type": "code",
   "execution_count": 1,
   "id": "premier-genome",
   "metadata": {},
   "outputs": [],
   "source": [
    "import pandas as pd\n",
    "import numpy as np\n",
    "from datetime import datetime, timedelta\n",
    "from IPython.display import display\n"
   ]
  },
  {
   "cell_type": "code",
   "execution_count": 2,
   "id": "silent-syndication",
   "metadata": {},
   "outputs": [],
   "source": [
    "df = pd.read_csv(\"INCIDENT_OWNER_HISTORY.csv\")\n"
   ]
  },
  {
   "cell_type": "markdown",
   "id": "dedicated-engagement",
   "metadata": {},
   "source": [
    "***Le temps moyen que les incidents passent dans un statut particulier.***"
   ]
  },
  {
   "cell_type": "code",
   "execution_count": 3,
   "id": "legal-demonstration",
   "metadata": {},
   "outputs": [
    {
     "data": {
      "text/html": [
       "<div>\n",
       "<style scoped>\n",
       "    .dataframe tbody tr th:only-of-type {\n",
       "        vertical-align: middle;\n",
       "    }\n",
       "\n",
       "    .dataframe tbody tr th {\n",
       "        vertical-align: top;\n",
       "    }\n",
       "\n",
       "    .dataframe thead th {\n",
       "        text-align: right;\n",
       "    }\n",
       "</style>\n",
       "<table border=\"1\" class=\"dataframe\">\n",
       "  <thead>\n",
       "    <tr style=\"text-align: right;\">\n",
       "      <th></th>\n",
       "      <th>TIME_IN_STATUS_BY_OWNER_HRS</th>\n",
       "    </tr>\n",
       "    <tr>\n",
       "      <th>STATUS</th>\n",
       "      <th></th>\n",
       "    </tr>\n",
       "  </thead>\n",
       "  <tbody>\n",
       "    <tr>\n",
       "      <th>AWAITCHG</th>\n",
       "      <td>127.377065</td>\n",
       "    </tr>\n",
       "    <tr>\n",
       "      <th>AWAITCUS</th>\n",
       "      <td>85.690441</td>\n",
       "    </tr>\n",
       "    <tr>\n",
       "      <th>AWAITVEN</th>\n",
       "      <td>144.054339</td>\n",
       "    </tr>\n",
       "    <tr>\n",
       "      <th>CLOSED</th>\n",
       "      <td>NaN</td>\n",
       "    </tr>\n",
       "    <tr>\n",
       "      <th>HISTEDIT</th>\n",
       "      <td>16.639815</td>\n",
       "    </tr>\n",
       "    <tr>\n",
       "      <th>INPROG</th>\n",
       "      <td>40.150039</td>\n",
       "    </tr>\n",
       "    <tr>\n",
       "      <th>NEW</th>\n",
       "      <td>8.283333</td>\n",
       "    </tr>\n",
       "    <tr>\n",
       "      <th>PENDING</th>\n",
       "      <td>68.230397</td>\n",
       "    </tr>\n",
       "    <tr>\n",
       "      <th>PENDINGCHG</th>\n",
       "      <td>158.836006</td>\n",
       "    </tr>\n",
       "    <tr>\n",
       "      <th>PENDINGCUS</th>\n",
       "      <td>92.318825</td>\n",
       "    </tr>\n",
       "    <tr>\n",
       "      <th>PENDINGREV</th>\n",
       "      <td>209.543013</td>\n",
       "    </tr>\n",
       "    <tr>\n",
       "      <th>PENDINGVEN</th>\n",
       "      <td>102.631822</td>\n",
       "    </tr>\n",
       "    <tr>\n",
       "      <th>QUEUED</th>\n",
       "      <td>47.523962</td>\n",
       "    </tr>\n",
       "    <tr>\n",
       "      <th>RESOLVED</th>\n",
       "      <td>0.147288</td>\n",
       "    </tr>\n",
       "    <tr>\n",
       "      <th>SLAHOLD</th>\n",
       "      <td>128.120452</td>\n",
       "    </tr>\n",
       "  </tbody>\n",
       "</table>\n",
       "</div>"
      ],
      "text/plain": [
       "            TIME_IN_STATUS_BY_OWNER_HRS\n",
       "STATUS                                 \n",
       "AWAITCHG                     127.377065\n",
       "AWAITCUS                      85.690441\n",
       "AWAITVEN                     144.054339\n",
       "CLOSED                              NaN\n",
       "HISTEDIT                      16.639815\n",
       "INPROG                        40.150039\n",
       "NEW                            8.283333\n",
       "PENDING                       68.230397\n",
       "PENDINGCHG                   158.836006\n",
       "PENDINGCUS                    92.318825\n",
       "PENDINGREV                   209.543013\n",
       "PENDINGVEN                   102.631822\n",
       "QUEUED                        47.523962\n",
       "RESOLVED                       0.147288\n",
       "SLAHOLD                      128.120452"
      ]
     },
     "execution_count": 3,
     "metadata": {},
     "output_type": "execute_result"
    }
   ],
   "source": [
    "df.groupby('STATUS').mean()\n"
   ]
  },
  {
   "cell_type": "markdown",
   "id": "british-spectacular",
   "metadata": {},
   "source": [
    "![](StatusAverageHisto.png)"
   ]
  },
  {
   "cell_type": "markdown",
   "id": "suffering-broadcast",
   "metadata": {},
   "source": [
    "![](StatusAverageCircle.png)"
   ]
  },
  {
   "cell_type": "markdown",
   "id": "unexpected-color",
   "metadata": {},
   "source": [
    "***Le nombre de fois qu'un incident est réassigné pendant la durée de vie du ticket.***\n"
   ]
  },
  {
   "cell_type": "code",
   "execution_count": 5,
   "id": "exterior-fourth",
   "metadata": {},
   "outputs": [],
   "source": [
    "#remove NAN value in TIME IN STATUT\n",
    "df = df[df['TIME_IN_STATUS_BY_OWNER_HRS'].notna()]\n",
    "#remove NAN value in TIME IN Assigned group\n",
    "df = df[df['assigned_group'].notna()]\n",
    "df_new1 = pd.DataFrame(columns=['ticket_nmbr','assigned_group','TIME_IN_STATUS_BY_OWNER_HRS'])\n",
    "df_new1['ticket_nmbr'] = df['ticket_nmbr']\n",
    "df_new1['TimeInHour'] = df['TIME_IN_STATUS_BY_OWNER_HRS']\n",
    "# Groupby and sum\n",
    "df_new1 = df_new1.groupby([\"ticket_nmbr\"]).agg({\"TimeInHour\": \"sum\"}).sort_values([\"ticket_nmbr\"]).reset_index()\n",
    "df_new2 = df.groupby([\"ticket_nmbr\",\"assigned_group\"]).agg({\"TIME_IN_STATUS_BY_OWNER_HRS\": \"sum\"}).sort_values([\"ticket_nmbr\",\"assigned_group\" ]).reset_index()\n",
    "occurence = df_new2.pivot_table(columns=[\"ticket_nmbr\"], aggfunc='size')\n",
    "df_new1['R_occur'] = occurence.tolist()"
   ]
  },
  {
   "cell_type": "code",
   "execution_count": 6,
   "id": "weird-rebate",
   "metadata": {},
   "outputs": [
    {
     "data": {
      "text/html": [
       "<div>\n",
       "<style scoped>\n",
       "    .dataframe tbody tr th:only-of-type {\n",
       "        vertical-align: middle;\n",
       "    }\n",
       "\n",
       "    .dataframe tbody tr th {\n",
       "        vertical-align: top;\n",
       "    }\n",
       "\n",
       "    .dataframe thead th {\n",
       "        text-align: right;\n",
       "    }\n",
       "</style>\n",
       "<table border=\"1\" class=\"dataframe\">\n",
       "  <thead>\n",
       "    <tr style=\"text-align: right;\">\n",
       "      <th></th>\n",
       "      <th>ticket_nmbr</th>\n",
       "      <th>TimeInHour</th>\n",
       "      <th>R_occur</th>\n",
       "    </tr>\n",
       "  </thead>\n",
       "  <tbody>\n",
       "    <tr>\n",
       "      <th>0</th>\n",
       "      <td>IN10028612</td>\n",
       "      <td>8.383333</td>\n",
       "      <td>1</td>\n",
       "    </tr>\n",
       "    <tr>\n",
       "      <th>1</th>\n",
       "      <td>IN10028613</td>\n",
       "      <td>64.100000</td>\n",
       "      <td>1</td>\n",
       "    </tr>\n",
       "    <tr>\n",
       "      <th>2</th>\n",
       "      <td>IN10028614</td>\n",
       "      <td>8.750000</td>\n",
       "      <td>1</td>\n",
       "    </tr>\n",
       "    <tr>\n",
       "      <th>3</th>\n",
       "      <td>IN10028615</td>\n",
       "      <td>3.616667</td>\n",
       "      <td>1</td>\n",
       "    </tr>\n",
       "    <tr>\n",
       "      <th>4</th>\n",
       "      <td>IN10028617</td>\n",
       "      <td>116.150000</td>\n",
       "      <td>1</td>\n",
       "    </tr>\n",
       "    <tr>\n",
       "      <th>...</th>\n",
       "      <td>...</td>\n",
       "      <td>...</td>\n",
       "      <td>...</td>\n",
       "    </tr>\n",
       "    <tr>\n",
       "      <th>224413</th>\n",
       "      <td>IN10293549</td>\n",
       "      <td>0.000000</td>\n",
       "      <td>2</td>\n",
       "    </tr>\n",
       "    <tr>\n",
       "      <th>224414</th>\n",
       "      <td>IN10293550</td>\n",
       "      <td>0.000000</td>\n",
       "      <td>1</td>\n",
       "    </tr>\n",
       "    <tr>\n",
       "      <th>224415</th>\n",
       "      <td>IN10293551</td>\n",
       "      <td>0.000000</td>\n",
       "      <td>1</td>\n",
       "    </tr>\n",
       "    <tr>\n",
       "      <th>224416</th>\n",
       "      <td>IN10293552</td>\n",
       "      <td>0.000000</td>\n",
       "      <td>2</td>\n",
       "    </tr>\n",
       "    <tr>\n",
       "      <th>224417</th>\n",
       "      <td>IN10293554</td>\n",
       "      <td>0.000000</td>\n",
       "      <td>1</td>\n",
       "    </tr>\n",
       "  </tbody>\n",
       "</table>\n",
       "<p>224418 rows × 3 columns</p>\n",
       "</div>"
      ],
      "text/plain": [
       "       ticket_nmbr  TimeInHour  R_occur\n",
       "0       IN10028612    8.383333        1\n",
       "1       IN10028613   64.100000        1\n",
       "2       IN10028614    8.750000        1\n",
       "3       IN10028615    3.616667        1\n",
       "4       IN10028617  116.150000        1\n",
       "...            ...         ...      ...\n",
       "224413  IN10293549    0.000000        2\n",
       "224414  IN10293550    0.000000        1\n",
       "224415  IN10293551    0.000000        1\n",
       "224416  IN10293552    0.000000        2\n",
       "224417  IN10293554    0.000000        1\n",
       "\n",
       "[224418 rows x 3 columns]"
      ]
     },
     "execution_count": 6,
     "metadata": {},
     "output_type": "execute_result"
    }
   ],
   "source": [
    "df_new1"
   ]
  },
  {
   "cell_type": "markdown",
   "id": "indirect-asbestos",
   "metadata": {},
   "source": [
    "***Le temps moyen que les incidents passent avec un groupe de support particulier (Assigned_Group).***\n"
   ]
  },
  {
   "cell_type": "code",
   "execution_count": 10,
   "id": "amazing-persian",
   "metadata": {},
   "outputs": [
    {
     "data": {
      "text/html": [
       "<div>\n",
       "<style scoped>\n",
       "    .dataframe tbody tr th:only-of-type {\n",
       "        vertical-align: middle;\n",
       "    }\n",
       "\n",
       "    .dataframe tbody tr th {\n",
       "        vertical-align: top;\n",
       "    }\n",
       "\n",
       "    .dataframe thead th {\n",
       "        text-align: right;\n",
       "    }\n",
       "</style>\n",
       "<table border=\"1\" class=\"dataframe\">\n",
       "  <thead>\n",
       "    <tr style=\"text-align: right;\">\n",
       "      <th></th>\n",
       "      <th>TIME_IN_STATUS_BY_OWNER_HRS</th>\n",
       "    </tr>\n",
       "    <tr>\n",
       "      <th>assigned_group</th>\n",
       "      <th></th>\n",
       "    </tr>\n",
       "  </thead>\n",
       "  <tbody>\n",
       "    <tr>\n",
       "      <th>1769</th>\n",
       "      <td>6.050000</td>\n",
       "    </tr>\n",
       "    <tr>\n",
       "      <th>AP000001</th>\n",
       "      <td>109.789474</td>\n",
       "    </tr>\n",
       "    <tr>\n",
       "      <th>AP000003</th>\n",
       "      <td>399.466667</td>\n",
       "    </tr>\n",
       "    <tr>\n",
       "      <th>AP000004</th>\n",
       "      <td>551.600000</td>\n",
       "    </tr>\n",
       "    <tr>\n",
       "      <th>AP000005</th>\n",
       "      <td>0.616667</td>\n",
       "    </tr>\n",
       "    <tr>\n",
       "      <th>...</th>\n",
       "      <td>...</td>\n",
       "    </tr>\n",
       "    <tr>\n",
       "      <th>SM000585</th>\n",
       "      <td>21.248418</td>\n",
       "    </tr>\n",
       "    <tr>\n",
       "      <th>SM000586</th>\n",
       "      <td>0.000000</td>\n",
       "    </tr>\n",
       "    <tr>\n",
       "      <th>SOLADMIN</th>\n",
       "      <td>1.416667</td>\n",
       "    </tr>\n",
       "    <tr>\n",
       "      <th>SSCINFRA</th>\n",
       "      <td>23.033333</td>\n",
       "    </tr>\n",
       "    <tr>\n",
       "      <th>TIVMON</th>\n",
       "      <td>72.287500</td>\n",
       "    </tr>\n",
       "  </tbody>\n",
       "</table>\n",
       "<p>579 rows × 1 columns</p>\n",
       "</div>"
      ],
      "text/plain": [
       "                TIME_IN_STATUS_BY_OWNER_HRS\n",
       "assigned_group                             \n",
       "1769                               6.050000\n",
       "AP000001                         109.789474\n",
       "AP000003                         399.466667\n",
       "AP000004                         551.600000\n",
       "AP000005                           0.616667\n",
       "...                                     ...\n",
       "SM000585                          21.248418\n",
       "SM000586                           0.000000\n",
       "SOLADMIN                           1.416667\n",
       "SSCINFRA                          23.033333\n",
       "TIVMON                            72.287500\n",
       "\n",
       "[579 rows x 1 columns]"
      ]
     },
     "execution_count": 10,
     "metadata": {},
     "output_type": "execute_result"
    }
   ],
   "source": [
    "df_new2.to_csv(\"df_new2.csv\",index=False)\n",
    "\n",
    "df_new2.groupby('assigned_group').mean()\n"
   ]
  },
  {
   "cell_type": "code",
   "execution_count": 11,
   "id": "listed-halifax",
   "metadata": {},
   "outputs": [
    {
     "data": {
      "text/html": [
       "<div>\n",
       "<style scoped>\n",
       "    .dataframe tbody tr th:only-of-type {\n",
       "        vertical-align: middle;\n",
       "    }\n",
       "\n",
       "    .dataframe tbody tr th {\n",
       "        vertical-align: top;\n",
       "    }\n",
       "\n",
       "    .dataframe thead th {\n",
       "        text-align: right;\n",
       "    }\n",
       "</style>\n",
       "<table border=\"1\" class=\"dataframe\">\n",
       "  <thead>\n",
       "    <tr style=\"text-align: right;\">\n",
       "      <th></th>\n",
       "      <th>ticket_nmbr</th>\n",
       "      <th>assigned_group</th>\n",
       "      <th>TIME_IN_STATUS_BY_OWNER_HRS</th>\n",
       "    </tr>\n",
       "  </thead>\n",
       "  <tbody>\n",
       "    <tr>\n",
       "      <th>0</th>\n",
       "      <td>IN10028612</td>\n",
       "      <td>DC000152</td>\n",
       "      <td>8.383333</td>\n",
       "    </tr>\n",
       "    <tr>\n",
       "      <th>1</th>\n",
       "      <td>IN10028613</td>\n",
       "      <td>NDS00032</td>\n",
       "      <td>64.100000</td>\n",
       "    </tr>\n",
       "    <tr>\n",
       "      <th>2</th>\n",
       "      <td>IN10028614</td>\n",
       "      <td>DC000155</td>\n",
       "      <td>8.750000</td>\n",
       "    </tr>\n",
       "    <tr>\n",
       "      <th>3</th>\n",
       "      <td>IN10028615</td>\n",
       "      <td>DC000133</td>\n",
       "      <td>3.616667</td>\n",
       "    </tr>\n",
       "    <tr>\n",
       "      <th>4</th>\n",
       "      <td>IN10028617</td>\n",
       "      <td>DC000115</td>\n",
       "      <td>116.150000</td>\n",
       "    </tr>\n",
       "    <tr>\n",
       "      <th>...</th>\n",
       "      <td>...</td>\n",
       "      <td>...</td>\n",
       "      <td>...</td>\n",
       "    </tr>\n",
       "    <tr>\n",
       "      <th>310343</th>\n",
       "      <td>IN10293550</td>\n",
       "      <td>DC000263</td>\n",
       "      <td>0.000000</td>\n",
       "    </tr>\n",
       "    <tr>\n",
       "      <th>310344</th>\n",
       "      <td>IN10293551</td>\n",
       "      <td>DC000152</td>\n",
       "      <td>0.000000</td>\n",
       "    </tr>\n",
       "    <tr>\n",
       "      <th>310345</th>\n",
       "      <td>IN10293552</td>\n",
       "      <td>DC000155</td>\n",
       "      <td>0.000000</td>\n",
       "    </tr>\n",
       "    <tr>\n",
       "      <th>310346</th>\n",
       "      <td>IN10293552</td>\n",
       "      <td>SM000562</td>\n",
       "      <td>0.000000</td>\n",
       "    </tr>\n",
       "    <tr>\n",
       "      <th>310347</th>\n",
       "      <td>IN10293554</td>\n",
       "      <td>DC000188</td>\n",
       "      <td>0.000000</td>\n",
       "    </tr>\n",
       "  </tbody>\n",
       "</table>\n",
       "<p>310348 rows × 3 columns</p>\n",
       "</div>"
      ],
      "text/plain": [
       "       ticket_nmbr assigned_group  TIME_IN_STATUS_BY_OWNER_HRS\n",
       "0       IN10028612       DC000152                     8.383333\n",
       "1       IN10028613       NDS00032                    64.100000\n",
       "2       IN10028614       DC000155                     8.750000\n",
       "3       IN10028615       DC000133                     3.616667\n",
       "4       IN10028617       DC000115                   116.150000\n",
       "...            ...            ...                          ...\n",
       "310343  IN10293550       DC000263                     0.000000\n",
       "310344  IN10293551       DC000152                     0.000000\n",
       "310345  IN10293552       DC000155                     0.000000\n",
       "310346  IN10293552       SM000562                     0.000000\n",
       "310347  IN10293554       DC000188                     0.000000\n",
       "\n",
       "[310348 rows x 3 columns]"
      ]
     },
     "execution_count": 11,
     "metadata": {},
     "output_type": "execute_result"
    }
   ],
   "source": [
    "df_new2"
   ]
  },
  {
   "cell_type": "markdown",
   "id": "identical-press",
   "metadata": {},
   "source": [
    "***Temps moyen pour restaurer le service (MTRS), y a-t-il des services particuliers qui prennent plus de temps en moyenne pour être restaurés ?***\n"
   ]
  },
  {
   "cell_type": "code",
   "execution_count": 17,
   "id": "fuzzy-plain",
   "metadata": {},
   "outputs": [
    {
     "data": {
      "text/html": [
       "<div>\n",
       "<style scoped>\n",
       "    .dataframe tbody tr th:only-of-type {\n",
       "        vertical-align: middle;\n",
       "    }\n",
       "\n",
       "    .dataframe tbody tr th {\n",
       "        vertical-align: top;\n",
       "    }\n",
       "\n",
       "    .dataframe thead th {\n",
       "        text-align: right;\n",
       "    }\n",
       "</style>\n",
       "<table border=\"1\" class=\"dataframe\">\n",
       "  <thead>\n",
       "    <tr style=\"text-align: right;\">\n",
       "      <th></th>\n",
       "      <th>TIME_IN_STATUS_BY_OWNER_HRS</th>\n",
       "    </tr>\n",
       "    <tr>\n",
       "      <th>service</th>\n",
       "      <th></th>\n",
       "    </tr>\n",
       "  </thead>\n",
       "  <tbody>\n",
       "    <tr>\n",
       "      <th>Bulk Print</th>\n",
       "      <td>377.007738</td>\n",
       "    </tr>\n",
       "    <tr>\n",
       "      <th>Classified Infrastructure - GCSI - Hosting Environment</th>\n",
       "      <td>43.980464</td>\n",
       "    </tr>\n",
       "    <tr>\n",
       "      <th>Classified Infrastructure - Government of Canada Secret Infrastructure (GCSI)</th>\n",
       "      <td>107.905556</td>\n",
       "    </tr>\n",
       "    <tr>\n",
       "      <th>Cloud Brokering</th>\n",
       "      <td>63.118243</td>\n",
       "    </tr>\n",
       "    <tr>\n",
       "      <th>Conferencing - Videoconferencing</th>\n",
       "      <td>43.938437</td>\n",
       "    </tr>\n",
       "    <tr>\n",
       "      <th>...</th>\n",
       "      <td>...</td>\n",
       "    </tr>\n",
       "    <tr>\n",
       "      <th>To be determined</th>\n",
       "      <td>309.741667</td>\n",
       "    </tr>\n",
       "    <tr>\n",
       "      <th>Toll-free Voice</th>\n",
       "      <td>55.636462</td>\n",
       "    </tr>\n",
       "    <tr>\n",
       "      <th>WTD - Hardware</th>\n",
       "      <td>142.022840</td>\n",
       "    </tr>\n",
       "    <tr>\n",
       "      <th>WTD Provisioning</th>\n",
       "      <td>625.816667</td>\n",
       "    </tr>\n",
       "    <tr>\n",
       "      <th>Workplace Technology Services</th>\n",
       "      <td>14.495464</td>\n",
       "    </tr>\n",
       "  </tbody>\n",
       "</table>\n",
       "<p>65 rows × 1 columns</p>\n",
       "</div>"
      ],
      "text/plain": [
       "                                                    TIME_IN_STATUS_BY_OWNER_HRS\n",
       "service                                                                        \n",
       "Bulk Print                                                           377.007738\n",
       "Classified Infrastructure - GCSI - Hosting Envi...                    43.980464\n",
       "Classified Infrastructure - Government of Canad...                   107.905556\n",
       "Cloud Brokering                                                       63.118243\n",
       "Conferencing - Videoconferencing                                      43.938437\n",
       "...                                                                         ...\n",
       "To be determined                                                     309.741667\n",
       "Toll-free Voice                                                       55.636462\n",
       "WTD - Hardware                                                       142.022840\n",
       "WTD Provisioning                                                     625.816667\n",
       "Workplace Technology Services                                         14.495464\n",
       "\n",
       "[65 rows x 1 columns]"
      ]
     },
     "execution_count": 17,
     "metadata": {},
     "output_type": "execute_result"
    }
   ],
   "source": [
    "df_servicelong = df.groupby('service').mean()\n",
    "df_servicelong"
   ]
  },
  {
   "cell_type": "code",
   "execution_count": 23,
   "id": "soviet-bangkok",
   "metadata": {},
   "outputs": [
    {
     "data": {
      "text/plain": [
       "TIME_IN_STATUS_BY_OWNER_HRS    1973.583333\n",
       "dtype: float64"
      ]
     },
     "execution_count": 23,
     "metadata": {},
     "output_type": "execute_result"
    }
   ],
   "source": [
    "df_servicelong.max()"
   ]
  },
  {
   "cell_type": "markdown",
   "id": "reverse-chemical",
   "metadata": {},
   "source": [
    "***Existe-t-il une corrélation entre le nombre de réaffectations d'un incident et le temps nécessaire à sa restauration ?***"
   ]
  },
  {
   "cell_type": "markdown",
   "id": "interested-oasis",
   "metadata": {},
   "source": [
    "Ce graph a ete faite avec le logiciel R"
   ]
  },
  {
   "cell_type": "markdown",
   "id": "worthy-eight",
   "metadata": {},
   "source": [
    "![](corellation1.png)"
   ]
  },
  {
   "cell_type": "markdown",
   "id": "unlike-ground",
   "metadata": {},
   "source": [
    "***Y a-t-il des organisations particulières pour lesquelles il faut plus de temps en moyenne pour restaurer les services ?***\n"
   ]
  },
  {
   "cell_type": "code",
   "execution_count": 25,
   "id": "engaged-terminal",
   "metadata": {},
   "outputs": [
    {
     "data": {
      "text/plain": [
       "ticket_nmbr                    IN10293554\n",
       "assigned_group                     TIVMON\n",
       "TIME_IN_STATUS_BY_OWNER_HRS        7307.2\n",
       "dtype: object"
      ]
     },
     "execution_count": 25,
     "metadata": {},
     "output_type": "execute_result"
    }
   ],
   "source": [
    "df_new2.max()\n"
   ]
  },
  {
   "cell_type": "code",
   "execution_count": null,
   "id": "alleged-onion",
   "metadata": {},
   "outputs": [],
   "source": []
  }
 ],
 "metadata": {
  "kernelspec": {
   "display_name": "Python 3",
   "language": "python",
   "name": "python3"
  },
  "language_info": {
   "codemirror_mode": {
    "name": "ipython",
    "version": 3
   },
   "file_extension": ".py",
   "mimetype": "text/x-python",
   "name": "python",
   "nbconvert_exporter": "python",
   "pygments_lexer": "ipython3",
   "version": "3.9.1"
  }
 },
 "nbformat": 4,
 "nbformat_minor": 5
}
